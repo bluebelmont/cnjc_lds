{
 "cells": [
  {
   "cell_type": "markdown",
   "metadata": {},
   "source": [
    "# Fitting linear dynamical systems\n",
    "\n",
    "This is a (short) notebook demonstrating the API for fitting linear dynamical systems using the LDS.py module."
   ]
  },
  {
   "cell_type": "code",
   "execution_count": 2,
   "metadata": {},
   "outputs": [],
   "source": [
    "#!/usr/bin/python\n",
    "from LDS import gLDS\n",
    "import numpy as np\n",
    "import matplotlib.pyplot as plt\n",
    "np.random.seed(1)\n",
    "\n",
    "from util import np_utils\n",
    "%matplotlib inline\n",
    "%load_ext autoreload\n",
    "%autoreload 2"
   ]
  },
  {
   "cell_type": "markdown",
   "metadata": {},
   "source": [
    "## Generate synthetic data\n",
    "First, we generate states and observation from a linear dynamical system with gaussian noise. The dynamical system has the form:\n",
    "\n",
    "\\begin{equation}\n",
    "\\vec{x}_{t+1} = A\\vec{x}_t + \\vec{\\omega}, \\text{where}~\\vec{\\omega} \\sim N(0,Q)\n",
    "\\end{equation}\n",
    "\n",
    "With observations:\n",
    "\n",
    "\\begin{equation}\n",
    "\\vec{y}_{t} = C\\vec{x}_t + \\vec{\\eta}, \\text{where}~\\vec{\\eta} \\sim N(0,R)\n",
    "\\end{equation}\n",
    "\n",
    "The initial state $\\vec{x}_0$ also comes from a gaussian distribution $N(\\pi_0,V_0)$. \n",
    "\n",
    "Note: We constrain each of the noise covariance matrices ($Q, R,$ and $V_0$) to be diagonal. This is not a restriction of the model, it just resolves a degenaracy. See [Roweis and Ghahramani 1996](http://mlg.eng.cam.ac.uk/pub/pdf/RowGha99a.pdf) for more information."
   ]
  },
  {
   "cell_type": "code",
   "execution_count": 3,
   "metadata": {},
   "outputs": [],
   "source": [
    "d_latent = 2 # dimensionality of latent state\n",
    "d_obs = 3 # dimensionality of observations\n",
    "T = 100 # number of timesteps\n",
    "N = 10 # number of examples\n",
    "\n",
    "# parameters of the gLDS\n",
    "A = .99 * np_utils.random_rotation(d_latent) # dynamics matrix, a slowly decaying rotation\n",
    "C = np.random.rand(d_obs,d_latent) # observation matrix, random\n",
    "\n",
    "# not necessary, but reordering C columns by column norm\n",
    "C = np_utils.sort_by_column_norm(C)\n",
    "\n",
    "# Q, R, and V are each vectors representing the diagonal elements of a matrix\n",
    "# The off-diagonal elements are 0\n",
    "Q = np.array(np.random.rand(d_latent,)) # state noise covariance\n",
    "R = np.array(np.random.rand(d_obs,)) # observation noise covariance\n",
    "\n",
    "\n",
    "pi_0 = np.zeros((d_latent,)) # initial state mean\n",
    "V_0 = np.array(np.random.rand(d_latent,)) # initial state covariance\n",
    "\n",
    "X = np.zeros((T, N, d_latent)) # states\n",
    "Y = np.zeros((T, N, d_obs)) # observations\n",
    "for n in range(N):\n",
    "    x = np.random.multivariate_normal(pi_0,np.diag(V_0)).T\n",
    "    for i in range(T):\n",
    "        x = A.dot(x) + np.random.multivariate_normal(np.zeros((d_latent,)),np.diag(Q)).T\n",
    "        y = C.dot(x) + np.random.multivariate_normal(np.zeros((d_obs,)),np.diag(R)).T\n",
    "        X[i,n] = x\n",
    "        Y[i,n] = y"
   ]
  },
  {
   "cell_type": "markdown",
   "metadata": {},
   "source": [
    "## Fit LDS"
   ]
  },
  {
   "cell_type": "code",
   "execution_count": 4,
   "metadata": {},
   "outputs": [],
   "source": [
    "model = gLDS()\n",
    "x_hat, model_likelihood = model.fit(Y, d_latent, num_iterations=100)"
   ]
  },
  {
   "cell_type": "code",
   "execution_count": 5,
   "metadata": {},
   "outputs": [],
   "source": [
    "true_likelihood = gLDS.get_likelihood(Y, A, C, np.diag(Q), R, pi_0, V_0)"
   ]
  },
  {
   "cell_type": "markdown",
   "metadata": {},
   "source": [
    "## Measures of fit"
   ]
  },
  {
   "cell_type": "markdown",
   "metadata": {},
   "source": [
    "## model vs. true likelihood"
   ]
  },
  {
   "cell_type": "code",
   "execution_count": 6,
   "metadata": {},
   "outputs": [
    {
     "data": {
      "text/plain": [
       "<matplotlib.legend.Legend at 0x116a3d240>"
      ]
     },
     "execution_count": 6,
     "metadata": {},
     "output_type": "execute_result"
    },
    {
     "data": {
      "image/png": "[encoded data removed]",
      "text/plain": [
       "<Figure size 432x288 with 1 Axes>"
      ]
     },
     "metadata": {
      "needs_background": "light"
     },
     "output_type": "display_data"
    }
   ],
   "source": [
    "fig, ax = plt.subplots(1,1)\n",
    "ax.hlines(true_likelihood, 0, len(model_likelihood), label='true')\n",
    "ax.plot(model_likelihood, label='model')\n",
    "ax.set_xlabel('Iterations')\n",
    "ax.set_ylabel('Log likelihood')\n",
    "ax.legend()"
   ]
  },
  {
   "cell_type": "markdown",
   "metadata": {},
   "source": [
    "other metrics that will be included soon:\n",
    "- error estimates for parameters (rotation + frobenius)\n",
    "- verifying latents are the same post rotation\n",
    "- comparing eigenvec/val between estimates and true params\n",
    "- quantify noise reduction between estimates and true latents in terms of noise magnitude\n",
    "- use poisson spikes generation, see how above convergence measures change"
   ]
  },
  {
   "cell_type": "code",
   "execution_count": null,
   "metadata": {},
   "outputs": [],
   "source": []
  }
 ],
 "metadata": {
  "kernelspec": {
   "display_name": "Python 3",
   "language": "python",
   "name": "python3"
  },
  "language_info": {
   "codemirror_mode": {
    "name": "ipython",
    "version": 3
   },
   "file_extension": ".py",
   "mimetype": "text/x-python",
   "name": "python",
   "nbconvert_exporter": "python",
   "pygments_lexer": "ipython3",
   "version": "3.7.0"
  }
 },
 "nbformat": 4,
 "nbformat_minor": 2
}
